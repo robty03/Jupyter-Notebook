{
 "cells": [
  {
   "cell_type": "markdown",
   "id": "c0f4d7d6-86c7-4bf9-a148-58f2a2b2dba6",
   "metadata": {},
   "source": [
    "# Data Science Tools and Ecosystem"
   ]
  },
  {
   "cell_type": "markdown",
   "id": "77416649-25e3-4376-b338-93c3e5a3de01",
   "metadata": {},
   "source": [
    "## In this notebook, Data Science Tools and Ecosystem are summarized."
   ]
  },
  {
   "cell_type": "markdown",
   "id": "ae85f736-de64-4918-a5d2-f8944b01aa53",
   "metadata": {},
   "source": [
    "### __Objectives:__"
   ]
  },
  {
   "cell_type": "markdown",
   "id": "fdbc1f7c-fac6-446d-a7af-e06df495fbbc",
   "metadata": {},
   "source": [
    "### Some of the popular languages that Data Scientists use are:"
   ]
  },
  {
   "cell_type": "markdown",
   "id": "d0bf3d4f-b4a1-49dc-bf10-848daa165b9e",
   "metadata": {},
   "source": [
    "- Java\n",
    "- Julia\n",
    "- C++"
   ]
  },
  {
   "cell_type": "markdown",
   "id": "e9e5a140-eb9d-4bba-8ca7-c5d277be5bb0",
   "metadata": {},
   "source": [
    "1. Python\n",
    "2. R\n",
    "3. SQL"
   ]
  },
  {
   "attachments": {},
   "cell_type": "markdown",
   "id": "548b10f7-d19d-4a0f-ae43-65e7e4b50189",
   "metadata": {},
   "source": [
    "### Some of the commonly used libraries used by Data Scientists include:"
   ]
  },
  {
   "cell_type": "markdown",
   "id": "23168e8a-0d19-4eab-9123-247b1cc32e3e",
   "metadata": {},
   "source": [
    "1. NumPy\n",
    "2. SciPy\n",
    "3. Matplotlib"
   ]
  },
  {
   "cell_type": "markdown",
   "id": "077f8cc8-4938-43a5-8699-6f3e7a07ee31",
   "metadata": {},
   "source": [
    "|Data Science Tools|\n",
    "|:--------:|\n",
    "|Tableau|\n",
    "|TensorFlow|\n",
    "|SAS|\n"
   ]
  },
  {
   "cell_type": "markdown",
   "id": "4288f2c7-5395-4dfc-99fe-318bc04979b8",
   "metadata": {},
   "source": [
    "### Below are a few examples of evaluating arithmetic expressions in Python"
   ]
  },
  {
   "cell_type": "code",
   "execution_count": 2,
   "id": "b11a602a-1b8e-4061-8592-54da630d46c2",
   "metadata": {},
   "outputs": [
    {
     "data": {
      "text/plain": [
       "17"
      ]
     },
     "execution_count": 2,
     "metadata": {},
     "output_type": "execute_result"
    }
   ],
   "source": [
    "# This is a simple arithmetic expression to multiply then add integers\n",
    "(3 * 4) + 5"
   ]
  },
  {
   "cell_type": "code",
   "execution_count": 3,
   "id": "67785cda-23ca-4305-884a-eb1d8f3be4ab",
   "metadata": {},
   "outputs": [
    {
     "data": {
      "text/plain": [
       "3.3333333333333335"
      ]
     },
     "execution_count": 3,
     "metadata": {},
     "output_type": "execute_result"
    }
   ],
   "source": [
    "# This will convert 200 minutes to hours by dividing by 60\n",
    "200 / 60"
   ]
  },
  {
   "cell_type": "markdown",
   "id": "5f9c756d-6c74-439a-9d6f-d39f5fc39a3f",
   "metadata": {},
   "source": [
    "## Author\n",
    "Vile Robert-Andrei"
   ]
  },
  {
   "cell_type": "code",
   "execution_count": null,
   "id": "70f2e7ad-b701-4d38-89ca-10e38ce317aa",
   "metadata": {},
   "outputs": [],
   "source": []
  }
 ],
 "metadata": {
  "kernelspec": {
   "display_name": "Python 3 (ipykernel)",
   "language": "python",
   "name": "python3"
  },
  "language_info": {
   "codemirror_mode": {
    "name": "ipython",
    "version": 3
   },
   "file_extension": ".py",
   "mimetype": "text/x-python",
   "name": "python",
   "nbconvert_exporter": "python",
   "pygments_lexer": "ipython3",
   "version": "3.10.9"
  }
 },
 "nbformat": 4,
 "nbformat_minor": 5
}
